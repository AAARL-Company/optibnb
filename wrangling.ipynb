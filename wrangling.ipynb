{
 "cells": [
  {
   "cell_type": "markdown",
   "metadata": {},
   "source": [
    "# Data Wrangling\n",
    "<p> The first step of the process before building our model is data wrangling. The Airbnb datasets provided need to be cleaned and edited for optimal model usage. This includes performing initial feature selection, imputing missing data, examining collinearity, performing variable transformations, and further pre-processing.</p>"
   ]
  },
  {
   "cell_type": "markdown",
   "metadata": {},
   "source": [
    "### Import Libraries"
   ]
  },
  {
   "cell_type": "code",
   "execution_count": null,
   "metadata": {
    "collapsed": false
   },
   "outputs": [],
   "source": [
    "import pandas as pd\n",
    "import numpy as np\n",
    "import seaborn as sns\n",
    "import matplotlib.pyplot as plt\n",
    "from collections import Counter\n",
    "%matplotlib inline"
   ]
  },
  {
   "cell_type": "code",
   "execution_count": null,
   "metadata": {
    "collapsed": true
   },
   "outputs": [],
   "source": [
    "# Global variables\n",
    "BNB_BLUE = '#007A87'\n",
    "BNB_RED = '#FF5A5F'\n",
    "BNB_DARK_GRAY = '#565A5C'\n",
    "BNB_LIGHT_GRAY = '#CED1CC'"
   ]
  },
  {
   "cell_type": "markdown",
   "metadata": {},
   "source": [
    "### Data Exploration and Analysis\n",
    "<p> We begin by examining the listings dataset below. This is the primary dataset for Airbnb listings in New York City - it contains a number of categorical and quantitative features. Through exploration and analysis we will determine which ones will be useful to our model.</p>"
   ]
  },
  {
   "cell_type": "code",
   "execution_count": null,
   "metadata": {
    "collapsed": false
   },
   "outputs": [],
   "source": [
    "# Read in the data \n",
    "listings = pd.read_csv('datasets/listings.csv', delimiter=',')\n",
    "calendar = pd.read_csv('datasets/calendar.csv', delimiter=',', usecols=range(4))\n",
    "\n",
    "# View feature list\n",
    "print listings.columns.values"
   ]
  },
  {
   "cell_type": "code",
   "execution_count": null,
   "metadata": {
    "collapsed": false
   },
   "outputs": [],
   "source": [
    "# Unsuppress Output\n",
    "pd.options.display.max_columns = 5\n",
    "\n",
    "# Split into predictor and response\n",
    "y = listings[['price']]\n",
    "\n",
    "# Append price at the end of the listings table\n",
    "del listings['price']\n",
    "listings = listings.join(y)\n",
    "\n",
    "# Show listings dataframe\n",
    "print 'Predictor Data Shape: ', listings.shape\n",
    "listings.head(n = 3)"
   ]
  },
  {
   "cell_type": "markdown",
   "metadata": {},
   "source": [
    "#### Price Distribution of Listings\n",
    "<p>The core listings dataset is comprised of 27,392 entries of Airbnb listing data with 51 total features including `bedrooms`, `bathrooms`, `room_type`, `review_score`, and more. We first examine the listings by price to get an initial impression of distribution.</p>"
   ]
  },
  {
   "cell_type": "code",
   "execution_count": null,
   "metadata": {
    "collapsed": false
   },
   "outputs": [],
   "source": [
    "# plot_hist\n",
    "# Function to plot histograms\n",
    "#\n",
    "# Input: n (integer for subplots)\n",
    "#        titles (list of titles)\n",
    "#        ranges (list of values)\n",
    "# Output: None\n",
    "def plot_hist(n, titles, ranges):\n",
    "    fig, ax = plt.subplots(n, figsize = (8, 7.5))\n",
    "    for i in range(n):\n",
    "        d, bins, patches = ax[i].hist(ranges[i], 50, normed = 1, color= BNB_RED, alpha = 0.85)\n",
    "        ax[i].set_title(titles[i])\n",
    "        ax[i].set_xlabel(\"Daily Listing Price in Dollars\")\n",
    "        ax[i].set_ylabel(\"Frequency\")\n",
    "    plt.tight_layout()\n",
    "    plt.show()"
   ]
  },
  {
   "cell_type": "code",
   "execution_count": null,
   "metadata": {
    "collapsed": false
   },
   "outputs": [],
   "source": [
    "# Visualize price table, changing them to floats and replacing the commas with a blank\n",
    "prices = listings['price'].apply(lambda s: float(s[1:].replace(',','')))\n",
    "\n",
    "# Plot histograms of price distribution\n",
    "plot_hist(3, ['Distribution of Listing Prices: All Data', 'Distribution of Listing Prices: \\$0 - \\$1000', \n",
    "               'Distribution of Listing Prices: \\$0 - \\$200'], [prices, prices[prices <= 1000], prices[prices < 250]])"
   ]
  },
  {
   "cell_type": "markdown",
   "metadata": {
    "collapsed": true
   },
   "source": [
    "<p>Above we see that prices are right skewed - most listings are below \\$500 a night. Examining the price bucket \\$0-\\$200 (which has the vast majority of the listings) we see that listings also tend to be most frequently priced at \\$100, \\$150, and \\$200.</p>"
   ]
  },
  {
   "cell_type": "markdown",
   "metadata": {},
   "source": [
    "#### Listing Clustering from Features\n",
    "<p>The right-skewness above indicates that there is likely features causing clustering in our data. Intuitively, we believe bedrooms and location can have a large impact on the price of a listing, especially in New York City. We examine this below by exploring the `bedrooms` and `neighbourhood_cleansed` features.</p>"
   ]
  },
  {
   "cell_type": "code",
   "execution_count": null,
   "metadata": {
    "collapsed": false
   },
   "outputs": [],
   "source": [
    "# Get frequency of bedroom number for listings\n",
    "bedrooms_counts = Counter(listings.bedrooms)\n",
    "tdf = pd.DataFrame.from_dict(bedrooms_counts, orient = 'index').sort_values(by = 0)\n",
    "tdf = (tdf.iloc[-10:, :] / 27392) * 100\n",
    "\n",
    "# Sort bedroom dataframe by number\n",
    "tdf.sort_index(axis = 0, ascending = True, inplace = True)\n",
    "\n",
    "# Plot percent of listings by bedroom number\n",
    "ax = tdf.plot(kind = 'bar', figsize = (12, 4), color = BNB_BLUE, alpha = 0.85)\n",
    "ax.set_xlabel(\"Number of Bedrooms\")\n",
    "ax.set_ylabel(\"Percent of Listings\")\n",
    "ax.set_title('Percent of Listings by Bedrooms')\n",
    "ax.legend_.remove()\n",
    "\n",
    "plt.show()\n",
    "\n",
    "print \"Percent of 1 Bedroom Listings: %{0:.2f}\".format(tdf[0][1])"
   ]
  },
  {
   "cell_type": "markdown",
   "metadata": {},
   "source": [
    "<p>As expected, we see that 74% of the listings are one-bedroom listings. This explains some of the right-skewness - smaller listings with less bedrooms will likely be priced cheaper than far larger ones.</p>"
   ]
  },
  {
   "cell_type": "code",
   "execution_count": null,
   "metadata": {
    "collapsed": false,
    "scrolled": true
   },
   "outputs": [],
   "source": [
    "# Get number of listings in neighborhoods\n",
    "nb_counts = Counter(listings.neighbourhood_cleansed)\n",
    "tdf = pd.DataFrame.from_dict(nb_counts, orient='index').sort_values(by=0)\n",
    "\n",
    "# Plot number of listings in each neighborhood\n",
    "ax = tdf.plot(kind='bar', figsize = (50,10), color = BNB_BLUE, alpha = 0.85)\n",
    "ax.set_title(\"Neighborhoods by Number of Listings\")\n",
    "ax.set_xlabel(\"Neighborhood\")\n",
    "ax.set_ylabel(\"# of Listings\")\n",
    "plt.show()\n",
    "\n",
    "print \"Number of Neighborhoods:\", len(nb_counts)"
   ]
  },
  {
   "cell_type": "markdown",
   "metadata": {},
   "source": [
    "<p>Here we see that the majority of the neighborhoods have less than 100 listings. This reveals that geographical location will be valuable for pricing prediction. We currently have 186 neighborhoods - all of these will not be of benefit to the model so we will remove some during the data cleaning phase.</p>"
   ]
  },
  {
   "cell_type": "code",
   "execution_count": null,
   "metadata": {
    "collapsed": false
   },
   "outputs": [],
   "source": [
    "neighborhoods = list(set(listings['neighbourhood_cleansed'].tolist()))\n",
    "\n",
    "p = []\n",
    "for nb in neighborhoods:\n",
    "    p.append(np.mean(listings[listings['neighbourhood_cleansed'] == nb]['price'].tolist()))\n",
    "\n",
    "data = zip(p, neighborhoods)\n",
    "\n",
    "print 'Figure 8'\n",
    "print '' \n",
    "\n",
    "plt.figure(figsize=(186, 8))\n",
    "ax = plt.bar(np.arange(len(p)), p, align='center', width = 1,  color = BNB_BLUE, alpha = 0.85)\n",
    "plt.xticks(np.arange(len(p)), neighborhoods, rotation = 90)\n",
    "plt.title(\"Avg. Price of House in Neighborhood\")\n",
    "plt.xlabel(\"Avg. Price\")\n",
    "plt.ylabel(\"Neighborhood\")\n",
    "plt.show()"
   ]
  },
  {
   "cell_type": "code",
   "execution_count": null,
   "metadata": {
    "collapsed": false
   },
   "outputs": [],
   "source": [
    "# Delete neighborhoods with less than 100 entries\n",
    "for i in nb_counts.keys():\n",
    "    if nb_counts[i] < 100:\n",
    "        del nb_counts[i]\n",
    "\n",
    "tdf = pd.DataFrame.from_dict(nb_counts, orient='index').sort_values(by=0)\n",
    "ax = tdf.plot(kind='bar', figsize = (22,4), color = BNB_BLUE, alpha = 0.85)\n",
    "ax.set_title(\"Neighborhoods by House # (Top 48)\")\n",
    "ax.set_xlabel(\"Neighborhood\")\n",
    "ax.set_ylabel(\"# of Listings\")\n",
    "\n",
    "plt.show()"
   ]
  },
  {
   "cell_type": "code",
   "execution_count": null,
   "metadata": {
    "collapsed": false
   },
   "outputs": [],
   "source": []
  },
  {
   "cell_type": "markdown",
   "metadata": {},
   "source": [
    "<p>For our baseline model, we can start by removing features that we intuitively sense will not impact a listing's price. This includes 11 features:</p>\n",
    "\n",
    "* `scrape_id`: Irrelevant to actual property data.\n",
    "* `last_scraped`: All within first three days of January, irrelevant to actual property data.\n",
    "* `picture_url`: Irrelevant to actual property data. \n",
    "* `host_picture_url`: Irrelevant to actual property data.\n",
    "* `neighbourhood`: The `neighbourhood_cleansed` feature presents the same data in a better format.\n",
    "* `state`: All listings are in the state of NY - this is useless.\n",
    "* `market`: All listings are in the NY market - this is useless.\n",
    "* `country`: All listings are in the USA - this is useless.\n",
    "* `weekly_price`: Function of daily price - should not be a predictor.\n",
    "* `monthly_price`: Function of daily price - should not be a predictor.\n",
    "* `calendar_last_scraped`: All within first three days of January, irrelevant to actual property data."
   ]
  },
  {
   "cell_type": "code",
   "execution_count": null,
   "metadata": {
    "collapsed": false
   },
   "outputs": [],
   "source": [
    "# Features to drop\n",
    "bad_features = ['scrape_id', 'last_scraped', 'picture_url', 'host_picture_url', 'neighbourhood', 'state', \n",
    "                'market', 'country', 'weekly_price', 'monthly_price', 'calendar_last_scraped']\n",
    "\n",
    "listings.drop(bad_features, axis=1, inplace=True)\n",
    " \n",
    "print 'Predictor Data Shape: ', listings.shape"
   ]
  },
  {
   "cell_type": "markdown",
   "metadata": {},
   "source": [
    "### Data Clustering"
   ]
  },
  {
   "cell_type": "code",
   "execution_count": null,
   "metadata": {
    "collapsed": false
   },
   "outputs": [],
   "source": []
  },
  {
   "cell_type": "markdown",
   "metadata": {},
   "source": [
    "### Missing Data, Imputation, and More Feature Selection"
   ]
  },
  {
   "cell_type": "code",
   "execution_count": null,
   "metadata": {
    "collapsed": false
   },
   "outputs": [],
   "source": [
    "# Returns percent of missing data in column\n",
    "def percent_empty(df):\n",
    "    \n",
    "    bools = df.isnull().tolist()\n",
    "    percent_empty = float(bools.count(True)) / float(len(bools))\n",
    "    \n",
    "    return percent_empty\n",
    "\n",
    "# Store emptiness for all features\n",
    "emptiness = []\n",
    "\n",
    "# Get emptiness for all features\n",
    "for i in range(0, listings.shape[1]):\n",
    "    emptiness.append(round(percent_empty(listings.iloc[:,i]), 2))\n",
    "    \n",
    "empty_dict = dict(zip(listings.columns.values.tolist(), emptiness))\n",
    "\n",
    "# Plot emptiness graph\n",
    "empty = pd.DataFrame.from_dict(empty_dict, orient = 'index').sort_values(by=0)\n",
    "ax = empty.plot(kind = 'bar', color='#E35A5C', figsize = (16, 5))\n",
    "ax.set_xlabel('Predictor')\n",
    "ax.set_ylabel('Percent Empty/NaN')\n",
    "ax.set_title('Feature Emptiness')\n",
    "ax.legend_.remove()\n",
    "\n",
    "plt.show()"
   ]
  },
  {
   "cell_type": "code",
   "execution_count": null,
   "metadata": {
    "collapsed": true
   },
   "outputs": [],
   "source": []
  },
  {
   "cell_type": "code",
   "execution_count": null,
   "metadata": {
    "collapsed": true
   },
   "outputs": [],
   "source": []
  }
 ],
 "metadata": {
  "anaconda-cloud": {},
  "kernelspec": {
   "display_name": "Python [conda root]",
   "language": "python",
   "name": "conda-root-py"
  },
  "language_info": {
   "codemirror_mode": {
    "name": "ipython",
    "version": 2
   },
   "file_extension": ".py",
   "mimetype": "text/x-python",
   "name": "python",
   "nbconvert_exporter": "python",
   "pygments_lexer": "ipython2",
   "version": "2.7.12"
  }
 },
 "nbformat": 4,
 "nbformat_minor": 0
}
