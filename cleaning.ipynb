{
 "cells": [
  {
   "cell_type": "markdown",
   "metadata": {},
   "source": [
    "# Cleaning and Pre-Processing Airbnb Data\n",
    "<p> Now that we have a good understanding of what our data looks like, the Airbnb datasets provided need to be cleaned and edited for optimal model usage. This includes performing initial feature selection, imputing missing data, examining collinearity, performing variable transformations, and further pre-processing.</p>"
   ]
  },
  {
   "cell_type": "markdown",
   "metadata": {},
   "source": [
    "### Import Libraries"
   ]
  },
  {
   "cell_type": "code",
   "execution_count": 3,
   "metadata": {
    "collapsed": false
   },
   "outputs": [],
   "source": [
    "import pandas as pd\n",
    "import numpy as np\n",
    "import matplotlib.pyplot as plt\n",
    "from collections import Counter\n",
    "%matplotlib inline"
   ]
  },
  {
   "cell_type": "code",
   "execution_count": 4,
   "metadata": {
    "collapsed": true
   },
   "outputs": [],
   "source": [
    "# Global variables\n",
    "BNB_BLUE = '#007A87'\n",
    "BNB_RED = '#FF5A5F'\n",
    "BNB_DARK_GRAY = '#565A5C'\n",
    "BNB_LIGHT_GRAY = '#CED1CC'"
   ]
  },
  {
   "cell_type": "markdown",
   "metadata": {},
   "source": [
    "### Initial Feature Selection\n",
    "<p>As a baseline, we can start by removing features that we intuitively sense will not impact a listing's price. This includes 18 features:</p>\n",
    "* `scrape_id`: Irrelevant to property data.\n",
    "* `last_scraped`: All within first three days of January, irrelevant to actual property data.\n",
    "* `picture_url`: Irrelevant to property data. \n",
    "* `host_id`: Irrelevant to property data.\n",
    "* `host_name`: Irrelevant to property data; no textual importance.\n",
    "* `host_since`: Irrelevant to property data; no textual importance.\n",
    "* `host_picture_url`: Irrelevant to property data.\n",
    "* `street`: Generic names; location data captured with lower unique count in other geographical features.\n",
    "* `neighbourhood`: The `neighbourhood_cleansed` feature presents the same data in a better format.\n",
    "* `state`: All listings are in the state of NY - this is useless.\n",
    "* `market`: All listings are in the NY market - this is useless.\n",
    "* `country`: All listings are in the USA - this is useless.\n",
    "* `weekly_price`: Function of daily price - should not be a predictor.\n",
    "* `monthly_price`: Function of daily price - should not be a predictor.\n",
    "* `calendar_updated`: Irrelevant to property data.\n",
    "* `calendar_last_scraped`: All within first three days of January, irrelevant to actual property data.\n",
    "* `first_review`: Irrelevant to property data, high unique count.\n",
    "* `last_review`: Irrelevant to property data, high unique count."
   ]
  },
  {
   "cell_type": "code",
   "execution_count": 10,
   "metadata": {
    "collapsed": false
   },
   "outputs": [],
   "source": [
    "# Read in the data \n",
    "listings = pd.read_csv('listings_Jan.csv', delimiter=',')\n",
    "calendar = pd.read_csv('calendar_Jan.csv', delimiter=',', usecols=range(4))\n",
    "\n",
    "# Split into predictor and response\n",
    "y = listings[['price']]\n",
    "\n",
    "# Append price at the end of the listings table\n",
    "del listings['price']\n",
    "x = listings\n",
    "listings = listings.join(y)"
   ]
  },
  {
   "cell_type": "code",
   "execution_count": 6,
   "metadata": {
    "collapsed": false
   },
   "outputs": [
    {
     "name": "stdout",
     "output_type": "stream",
     "text": [
      "Number of entries: 27392\n",
      "Number of features: 34\n"
     ]
    },
    {
     "data": {
      "text/html": [
       "<div>\n",
       "<table border=\"1\" class=\"dataframe\">\n",
       "  <thead>\n",
       "    <tr style=\"text-align: right;\">\n",
       "      <th></th>\n",
       "      <th>id</th>\n",
       "      <th>name</th>\n",
       "      <th>neighbourhood_cleansed</th>\n",
       "      <th>city</th>\n",
       "      <th>zipcode</th>\n",
       "      <th>latitude</th>\n",
       "      <th>longitude</th>\n",
       "      <th>is_location_exact</th>\n",
       "      <th>property_type</th>\n",
       "      <th>room_type</th>\n",
       "      <th>...</th>\n",
       "      <th>number_of_reviews</th>\n",
       "      <th>review_scores_rating</th>\n",
       "      <th>review_scores_accuracy</th>\n",
       "      <th>review_scores_cleanliness</th>\n",
       "      <th>review_scores_checkin</th>\n",
       "      <th>review_scores_communication</th>\n",
       "      <th>review_scores_location</th>\n",
       "      <th>review_scores_value</th>\n",
       "      <th>host_listing_count</th>\n",
       "      <th>price</th>\n",
       "    </tr>\n",
       "  </thead>\n",
       "  <tbody>\n",
       "    <tr>\n",
       "      <th>0</th>\n",
       "      <td>1069266</td>\n",
       "      <td>Stay like a real New Yorker!</td>\n",
       "      <td>Midtown East</td>\n",
       "      <td>New York</td>\n",
       "      <td>10022</td>\n",
       "      <td>40.756852</td>\n",
       "      <td>-73.964754</td>\n",
       "      <td>t</td>\n",
       "      <td>Apartment</td>\n",
       "      <td>Entire home/apt</td>\n",
       "      <td>...</td>\n",
       "      <td>62</td>\n",
       "      <td>86.0</td>\n",
       "      <td>9.0</td>\n",
       "      <td>7.0</td>\n",
       "      <td>9.0</td>\n",
       "      <td>9.0</td>\n",
       "      <td>10.0</td>\n",
       "      <td>9.0</td>\n",
       "      <td>1</td>\n",
       "      <td>$160.00</td>\n",
       "    </tr>\n",
       "    <tr>\n",
       "      <th>1</th>\n",
       "      <td>1846722</td>\n",
       "      <td>Apartment 20 Minutes Times Square</td>\n",
       "      <td>Hamilton Heights</td>\n",
       "      <td>New York</td>\n",
       "      <td>NaN</td>\n",
       "      <td>40.830599</td>\n",
       "      <td>-73.941014</td>\n",
       "      <td>f</td>\n",
       "      <td>Apartment</td>\n",
       "      <td>Entire home/apt</td>\n",
       "      <td>...</td>\n",
       "      <td>22</td>\n",
       "      <td>85.0</td>\n",
       "      <td>8.0</td>\n",
       "      <td>8.0</td>\n",
       "      <td>9.0</td>\n",
       "      <td>8.0</td>\n",
       "      <td>7.0</td>\n",
       "      <td>8.0</td>\n",
       "      <td>2</td>\n",
       "      <td>$105.00</td>\n",
       "    </tr>\n",
       "    <tr>\n",
       "      <th>2</th>\n",
       "      <td>2061725</td>\n",
       "      <td>Option of 2 Beds w Private Bathroom</td>\n",
       "      <td>Bushwick</td>\n",
       "      <td>Brooklyn</td>\n",
       "      <td>11221</td>\n",
       "      <td>40.692189</td>\n",
       "      <td>-73.924120</td>\n",
       "      <td>t</td>\n",
       "      <td>Apartment</td>\n",
       "      <td>Private room</td>\n",
       "      <td>...</td>\n",
       "      <td>35</td>\n",
       "      <td>98.0</td>\n",
       "      <td>10.0</td>\n",
       "      <td>10.0</td>\n",
       "      <td>10.0</td>\n",
       "      <td>10.0</td>\n",
       "      <td>9.0</td>\n",
       "      <td>10.0</td>\n",
       "      <td>4</td>\n",
       "      <td>$58.00</td>\n",
       "    </tr>\n",
       "  </tbody>\n",
       "</table>\n",
       "<p>3 rows × 34 columns</p>\n",
       "</div>"
      ],
      "text/plain": [
       "        id                                 name neighbourhood_cleansed  \\\n",
       "0  1069266        Stay like a real New Yorker!            Midtown East   \n",
       "1  1846722    Apartment 20 Minutes Times Square       Hamilton Heights   \n",
       "2  2061725  Option of 2 Beds w Private Bathroom               Bushwick   \n",
       "\n",
       "       city zipcode   latitude  longitude is_location_exact property_type  \\\n",
       "0  New York   10022  40.756852 -73.964754                 t     Apartment   \n",
       "1  New York     NaN  40.830599 -73.941014                 f     Apartment   \n",
       "2  Brooklyn   11221  40.692189 -73.924120                 t     Apartment   \n",
       "\n",
       "         room_type    ...     number_of_reviews  review_scores_rating  \\\n",
       "0  Entire home/apt    ...                    62                  86.0   \n",
       "1  Entire home/apt    ...                    22                  85.0   \n",
       "2     Private room    ...                    35                  98.0   \n",
       "\n",
       "   review_scores_accuracy  review_scores_cleanliness review_scores_checkin  \\\n",
       "0                     9.0                        7.0                   9.0   \n",
       "1                     8.0                        8.0                   9.0   \n",
       "2                    10.0                       10.0                  10.0   \n",
       "\n",
       "   review_scores_communication  review_scores_location review_scores_value  \\\n",
       "0                          9.0                    10.0                 9.0   \n",
       "1                          8.0                     7.0                 8.0   \n",
       "2                         10.0                     9.0                10.0   \n",
       "\n",
       "   host_listing_count     price  \n",
       "0                   1  $160.00   \n",
       "1                   2  $105.00   \n",
       "2                   4   $58.00   \n",
       "\n",
       "[3 rows x 34 columns]"
      ]
     },
     "execution_count": 6,
     "metadata": {},
     "output_type": "execute_result"
    }
   ],
   "source": [
    "# Features to drop\n",
    "bad_features = ['scrape_id', 'last_scraped', 'picture_url', 'host_picture_url', \n",
    "                'host_id', 'neighbourhood', 'state', 'market', 'country',\n",
    "                'weekly_price', 'monthly_price', 'calendar_last_scraped',\n",
    "                'host_name', 'host_since', 'street', 'calendar_updated',\n",
    "                'first_review', 'last_review']\n",
    "\n",
    "listings.drop(bad_features, axis=1, inplace=True)\n",
    "\n",
    "# Store number of entries and features\n",
    "entries = listings.shape[0]\n",
    "features = listings.shape[1]\n",
    "\n",
    "print 'Number of entries:',entries\n",
    "print 'Number of features:',features\n",
    "listings.head(n=3)"
   ]
  },
  {
   "cell_type": "markdown",
   "metadata": {},
   "source": [
    "### Cleaning and Imputation\n",
    "<p>We begin by making sure that all quantitative predictors and response variables are float. This will allow us to better deal with categorical data, and NaN entries in the float data. Looking through `zipcode` and `city` we realize that there is a lot of erroneous and incomplete data in these features, . Both of these\n",
    "\n",
    "Before we can on-hot encode, we need to deal with our missing values. For categorical values, we will fill in using the mode because there is no ordering, and for quantitative variables we will use the median (to prevent outliers from skewing the imputation).</p>\n"
   ]
  },
  {
   "cell_type": "code",
   "execution_count": 7,
   "metadata": {
    "collapsed": false
   },
   "outputs": [],
   "source": [
    "# Convert to floats\n",
    "listings['price'] = listings['price'].apply(lambda s: float(s[1:].replace(',','')))\n",
    "listings['extra_people'] = listings['extra_people'].apply(lambda s: float(s[1:].replace(',','')))"
   ]
  },
  {
   "cell_type": "code",
   "execution_count": 8,
   "metadata": {
    "collapsed": false
   },
   "outputs": [],
   "source": [
    "# List of columns to be converted to floating point\n",
    "to_float = ['id', 'latitude', 'longitude', 'accommodates',\n",
    "            'bathrooms', 'bedrooms', 'beds', 'square_feet',\n",
    "            'guests_included', 'extra_people', 'minimum_nights', \n",
    "            'maximum_nights', 'availability_30', 'availability_60', \n",
    "            'availability_90', 'availability_365', 'number_of_reviews',\n",
    "            'review_scores_rating', 'review_scores_accuracy', \n",
    "            'review_scores_cleanliness', 'review_scores_checkin',\n",
    "            'review_scores_communication', 'review_scores_location',\n",
    "            'review_scores_value', 'host_listing_count']\n",
    "\n",
    "# Converted columns to floating point\n",
    "for feature_name in to_float:\n",
    "    listings[feature_name] = listings[feature_name].astype(float)"
   ]
  },
  {
   "cell_type": "code",
   "execution_count": 11,
   "metadata": {
    "collapsed": false
   },
   "outputs": [
    {
     "ename": "NameError",
     "evalue": "(\"global name 'preprocessing' is not defined\", u'occurred at index id')",
     "output_type": "error",
     "traceback": [
      "\u001b[0;31m---------------------------------------------------------------------------\u001b[0m",
      "\u001b[0;31mNameError\u001b[0m                                 Traceback (most recent call last)",
      "\u001b[0;32m<ipython-input-11-906eb93d6717>\u001b[0m in \u001b[0;36m<module>\u001b[0;34m()\u001b[0m\n\u001b[1;32m     10\u001b[0m         \u001b[0;32mreturn\u001b[0m \u001b[0marray\u001b[0m\u001b[0;34m\u001b[0m\u001b[0m\n\u001b[1;32m     11\u001b[0m \u001b[0;34m\u001b[0m\u001b[0m\n\u001b[0;32m---> 12\u001b[0;31m \u001b[0mnew_x\u001b[0m \u001b[0;34m=\u001b[0m \u001b[0mx\u001b[0m\u001b[0;34m.\u001b[0m\u001b[0mapply\u001b[0m\u001b[0;34m(\u001b[0m\u001b[0mencode_categorical\u001b[0m\u001b[0;34m)\u001b[0m\u001b[0;34m\u001b[0m\u001b[0m\n\u001b[0m",
      "\u001b[0;32m//anaconda/lib/python2.7/site-packages/pandas/core/frame.pyc\u001b[0m in \u001b[0;36mapply\u001b[0;34m(self, func, axis, broadcast, raw, reduce, args, **kwds)\u001b[0m\n\u001b[1;32m   4059\u001b[0m                     \u001b[0;32mif\u001b[0m \u001b[0mreduce\u001b[0m \u001b[0;32mis\u001b[0m \u001b[0mNone\u001b[0m\u001b[0;34m:\u001b[0m\u001b[0;34m\u001b[0m\u001b[0m\n\u001b[1;32m   4060\u001b[0m                         \u001b[0mreduce\u001b[0m \u001b[0;34m=\u001b[0m \u001b[0mTrue\u001b[0m\u001b[0;34m\u001b[0m\u001b[0m\n\u001b[0;32m-> 4061\u001b[0;31m                     \u001b[0;32mreturn\u001b[0m \u001b[0mself\u001b[0m\u001b[0;34m.\u001b[0m\u001b[0m_apply_standard\u001b[0m\u001b[0;34m(\u001b[0m\u001b[0mf\u001b[0m\u001b[0;34m,\u001b[0m \u001b[0maxis\u001b[0m\u001b[0;34m,\u001b[0m \u001b[0mreduce\u001b[0m\u001b[0;34m=\u001b[0m\u001b[0mreduce\u001b[0m\u001b[0;34m)\u001b[0m\u001b[0;34m\u001b[0m\u001b[0m\n\u001b[0m\u001b[1;32m   4062\u001b[0m             \u001b[0;32melse\u001b[0m\u001b[0;34m:\u001b[0m\u001b[0;34m\u001b[0m\u001b[0m\n\u001b[1;32m   4063\u001b[0m                 \u001b[0;32mreturn\u001b[0m \u001b[0mself\u001b[0m\u001b[0;34m.\u001b[0m\u001b[0m_apply_broadcast\u001b[0m\u001b[0;34m(\u001b[0m\u001b[0mf\u001b[0m\u001b[0;34m,\u001b[0m \u001b[0maxis\u001b[0m\u001b[0;34m)\u001b[0m\u001b[0;34m\u001b[0m\u001b[0m\n",
      "\u001b[0;32m//anaconda/lib/python2.7/site-packages/pandas/core/frame.pyc\u001b[0m in \u001b[0;36m_apply_standard\u001b[0;34m(self, func, axis, ignore_failures, reduce)\u001b[0m\n\u001b[1;32m   4155\u001b[0m             \u001b[0;32mtry\u001b[0m\u001b[0;34m:\u001b[0m\u001b[0;34m\u001b[0m\u001b[0m\n\u001b[1;32m   4156\u001b[0m                 \u001b[0;32mfor\u001b[0m \u001b[0mi\u001b[0m\u001b[0;34m,\u001b[0m \u001b[0mv\u001b[0m \u001b[0;32min\u001b[0m \u001b[0menumerate\u001b[0m\u001b[0;34m(\u001b[0m\u001b[0mseries_gen\u001b[0m\u001b[0;34m)\u001b[0m\u001b[0;34m:\u001b[0m\u001b[0;34m\u001b[0m\u001b[0m\n\u001b[0;32m-> 4157\u001b[0;31m                     \u001b[0mresults\u001b[0m\u001b[0;34m[\u001b[0m\u001b[0mi\u001b[0m\u001b[0;34m]\u001b[0m \u001b[0;34m=\u001b[0m \u001b[0mfunc\u001b[0m\u001b[0;34m(\u001b[0m\u001b[0mv\u001b[0m\u001b[0;34m)\u001b[0m\u001b[0;34m\u001b[0m\u001b[0m\n\u001b[0m\u001b[1;32m   4158\u001b[0m                     \u001b[0mkeys\u001b[0m\u001b[0;34m.\u001b[0m\u001b[0mappend\u001b[0m\u001b[0;34m(\u001b[0m\u001b[0mv\u001b[0m\u001b[0;34m.\u001b[0m\u001b[0mname\u001b[0m\u001b[0;34m)\u001b[0m\u001b[0;34m\u001b[0m\u001b[0m\n\u001b[1;32m   4159\u001b[0m             \u001b[0;32mexcept\u001b[0m \u001b[0mException\u001b[0m \u001b[0;32mas\u001b[0m \u001b[0me\u001b[0m\u001b[0;34m:\u001b[0m\u001b[0;34m\u001b[0m\u001b[0m\n",
      "\u001b[0;32m<ipython-input-11-906eb93d6717>\u001b[0m in \u001b[0;36mencode_categorical\u001b[0;34m(array)\u001b[0m\n\u001b[1;32m      6\u001b[0m \u001b[0;32mdef\u001b[0m \u001b[0mencode_categorical\u001b[0m\u001b[0;34m(\u001b[0m\u001b[0marray\u001b[0m\u001b[0;34m)\u001b[0m\u001b[0;34m:\u001b[0m\u001b[0;34m\u001b[0m\u001b[0m\n\u001b[1;32m      7\u001b[0m     \u001b[0;32mif\u001b[0m \u001b[0;32mnot\u001b[0m \u001b[0marray\u001b[0m\u001b[0;34m.\u001b[0m\u001b[0mdtype\u001b[0m \u001b[0;34m==\u001b[0m \u001b[0mnp\u001b[0m\u001b[0;34m.\u001b[0m\u001b[0mdtype\u001b[0m\u001b[0;34m(\u001b[0m\u001b[0;34m'float64'\u001b[0m\u001b[0;34m)\u001b[0m\u001b[0;34m:\u001b[0m\u001b[0;34m\u001b[0m\u001b[0m\n\u001b[0;32m----> 8\u001b[0;31m         \u001b[0;32mreturn\u001b[0m \u001b[0mpreprocessing\u001b[0m\u001b[0;34m.\u001b[0m\u001b[0mLabelEncoder\u001b[0m\u001b[0;34m(\u001b[0m\u001b[0;34m)\u001b[0m\u001b[0;34m.\u001b[0m\u001b[0mfit_transform\u001b[0m\u001b[0;34m(\u001b[0m\u001b[0marray\u001b[0m\u001b[0;34m)\u001b[0m\u001b[0;34m\u001b[0m\u001b[0m\n\u001b[0m\u001b[1;32m      9\u001b[0m     \u001b[0;32melse\u001b[0m\u001b[0;34m:\u001b[0m\u001b[0;34m\u001b[0m\u001b[0m\n\u001b[1;32m     10\u001b[0m         \u001b[0;32mreturn\u001b[0m \u001b[0marray\u001b[0m\u001b[0;34m\u001b[0m\u001b[0m\n",
      "\u001b[0;31mNameError\u001b[0m: (\"global name 'preprocessing' is not defined\", u'occurred at index id')"
     ]
    }
   ],
   "source": [
    "# encode_categorical\n",
    "# \n",
    "# Function to label encode categorical variables.\n",
    "#     Input: array (array of values)\n",
    "#     Output: array (array of encoded values)\n",
    "def encode_categorical(array):\n",
    "    if not array.dtype == np.dtype('float64'):\n",
    "        return preprocessing.LabelEncoder().fit_transform(array) \n",
    "    else:\n",
    "        return array\n",
    "\n",
    "new_x = x.apply(encode_categorical)"
   ]
  },
  {
   "cell_type": "markdown",
   "metadata": {},
   "source": [
    "### Feature Emptiness and Erroneous Data\n",
    "<p>Before imputing missing values, we should examine the percentage of values that are missing from each feature. Imputing data for a feature with too much missing data can bias the model.</p>"
   ]
  },
  {
   "cell_type": "code",
   "execution_count": null,
   "metadata": {
    "collapsed": false
   },
   "outputs": [],
   "source": [
    "# Returns percent of missing data in column\n",
    "def percent_empty(df):\n",
    "    \n",
    "    bools = df.isnull().tolist()\n",
    "    percent_empty = float(bools.count(True)) / float(len(bools))\n",
    "    \n",
    "    return percent_empty\n",
    "\n",
    "# Store emptiness for all features\n",
    "emptiness = []\n",
    "\n",
    "# Get emptiness for all features\n",
    "for i in range(0, listings.shape[1]):\n",
    "    emptiness.append(round(percent_empty(listings.iloc[:,i]), 2))\n",
    "    \n",
    "empty_dict = dict(zip(listings.columns.values.tolist(), emptiness))\n",
    "\n",
    "# Plot emptiness graph\n",
    "empty = pd.DataFrame.from_dict(empty_dict, orient = 'index').sort_values(by=0)\n",
    "ax = empty.plot(kind = 'bar', color='#E35A5C', figsize = (16, 5))\n",
    "ax.set_xlabel('Predictor')\n",
    "ax.set_ylabel('Percent Empty / NaN')\n",
    "ax.set_title('Feature Emptiness')\n",
    "ax.legend_.remove()\n",
    "\n",
    "plt.show()"
   ]
  },
  {
   "cell_type": "markdown",
   "metadata": {},
   "source": [
    "The percent emptiness graph shows that `square_feet` is over 90% empty. This is too empty for imputation, so we remove this feature. We also remove entries (rows) that have faulty data such as:\n",
    "\n",
    "* There are 0 bedrooms\n",
    "* There are 0 bathrooms\n",
    "* There are 0 beds\n",
    "* The price is \\$0"
   ]
  },
  {
   "cell_type": "code",
   "execution_count": null,
   "metadata": {
    "collapsed": false
   },
   "outputs": [],
   "source": [
    "listings.drop('square_feet', axis=1, inplace=True)\n",
    "\n",
    "# Delete bad entries\n",
    "listings = listings[listings.bedrooms != 0]\n",
    "listings = listings[listings.beds != 0]\n",
    "listings = listings[listings.bathrooms != 0]\n",
    "listings = listings[listings.price != 0]\n",
    "\n",
    "print 'Number of entries removed: ', entries - listings.shape[0]\n",
    "entries = listings.shape[0]"
   ]
  },
  {
   "cell_type": "markdown",
   "metadata": {},
   "source": [
    "#### Trimming Neighborhood Entries"
   ]
  },
  {
   "cell_type": "markdown",
   "metadata": {},
   "source": [
    "<p>When we explored our data we saw that geography was very important to pricing, especially on Manhattan. The `neighbourhood_cleansed` feature could therefore be important. Looking at the distribution below we notice it is heavily left-skewed.</p>"
   ]
  },
  {
   "cell_type": "code",
   "execution_count": null,
   "metadata": {
    "collapsed": false
   },
   "outputs": [],
   "source": [
    "# Get number of listings in neighborhoods\n",
    "nb_counts = Counter(listings.neighbourhood_cleansed)\n",
    "tdf = pd.DataFrame.from_dict(nb_counts, orient='index').sort_values(by=0)\n",
    "\n",
    "# Plot number of listings in each neighborhood\n",
    "ax = tdf.plot(kind='bar', figsize = (50,10), color = BNB_BLUE, alpha = 0.85)\n",
    "ax.set_title(\"Neighborhoods by Number of Listings\")\n",
    "ax.set_xlabel(\"Neighborhood\")\n",
    "ax.set_ylabel(\"# of Listings\")\n",
    "plt.show()\n",
    "\n",
    "print \"Number of Neighborhoods:\", len(nb_counts)"
   ]
  },
  {
   "cell_type": "markdown",
   "metadata": {},
   "source": [
    "<p>We see that the majority of the neighborhoods have less than 100 listings. We currently have 186 neighborhoods - all of these categorical predictors when one-hot encoded will not be significant, so we will only keep neighborhoods with more than 100 listings. </p>"
   ]
  },
  {
   "cell_type": "code",
   "execution_count": null,
   "metadata": {
    "collapsed": false
   },
   "outputs": [],
   "source": [
    "# Delete neighborhoods with less than 100 entries\n",
    "for i in nb_counts.keys():\n",
    "    if nb_counts[i] < 100:\n",
    "        del nb_counts[i]\n",
    "\n",
    "tdf = pd.DataFrame.from_dict(nb_counts, orient='index').sort_values(by=0)\n",
    "ax = tdf.plot(kind='bar', figsize = (22,4), color = BNB_BLUE, alpha = 0.85)\n",
    "ax.set_title(\"Neighborhoods by House # (Top 48)\")\n",
    "ax.set_xlabel(\"Neighborhood\")\n",
    "ax.set_ylabel(\"# of Listings\")\n",
    "\n",
    "plt.show()"
   ]
  },
  {
   "cell_type": "code",
   "execution_count": null,
   "metadata": {
    "collapsed": true
   },
   "outputs": [],
   "source": []
  },
  {
   "cell_type": "code",
   "execution_count": null,
   "metadata": {
    "collapsed": true
   },
   "outputs": [],
   "source": []
  },
  {
   "cell_type": "code",
   "execution_count": null,
   "metadata": {
    "collapsed": false
   },
   "outputs": [],
   "source": [
    "listings.to_csv(path_or_buf='../clean.csv')"
   ]
  },
  {
   "cell_type": "markdown",
   "metadata": {},
   "source": [
    "### Multicollinearity"
   ]
  },
  {
   "cell_type": "code",
   "execution_count": null,
   "metadata": {
    "collapsed": true
   },
   "outputs": [],
   "source": []
  },
  {
   "cell_type": "markdown",
   "metadata": {},
   "source": []
  },
  {
   "cell_type": "code",
   "execution_count": null,
   "metadata": {
    "collapsed": false
   },
   "outputs": [],
   "source": []
  },
  {
   "cell_type": "code",
   "execution_count": null,
   "metadata": {
    "collapsed": true
   },
   "outputs": [],
   "source": []
  },
  {
   "cell_type": "code",
   "execution_count": null,
   "metadata": {
    "collapsed": false
   },
   "outputs": [],
   "source": []
  }
 ],
 "metadata": {
  "anaconda-cloud": {},
  "kernelspec": {
   "display_name": "Python [Root]",
   "language": "python",
   "name": "Python [Root]"
  },
  "language_info": {
   "codemirror_mode": {
    "name": "ipython",
    "version": 2
   },
   "file_extension": ".py",
   "mimetype": "text/x-python",
   "name": "python",
   "nbconvert_exporter": "python",
   "pygments_lexer": "ipython2",
   "version": "2.7.12"
  }
 },
 "nbformat": 4,
 "nbformat_minor": 1
}
