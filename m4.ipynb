{
 "cells": [
  {
   "cell_type": "markdown",
   "metadata": {},
   "source": [
    "### Import Libaries:"
   ]
  },
  {
   "cell_type": "code",
   "execution_count": null,
   "metadata": {
    "collapsed": false
   },
   "outputs": [],
   "source": [
    "import numpy as np\n",
    "import pandas as pd\n",
    "import scipy as sp\n",
    "from scipy.stats import mode\n",
    "from sklearn.linear_model import LinearRegression as LinReg\n",
    "import matplotlib\n",
    "import matplotlib.pyplot as plt\n",
    "from sklearn import discriminant_analysis\n",
    "from sklearn.decomposition import PCA\n",
    "from sklearn import preprocessing\n",
    "from collections import Counter\n",
    "%matplotlib inline"
   ]
  },
  {
   "cell_type": "markdown",
   "metadata": {},
   "source": [
    "### Import listings, clean data, extract features"
   ]
  },
  {
   "cell_type": "code",
   "execution_count": null,
   "metadata": {
    "collapsed": false
   },
   "outputs": [],
   "source": [
    "# Read in the data \n",
    "listings = pd.read_csv('listings.csv', delimiter=',')\n",
    "\n",
    "# View feature list\n",
    "print listings.columns.values"
   ]
  },
  {
   "cell_type": "code",
   "execution_count": null,
   "metadata": {
    "collapsed": false
   },
   "outputs": [],
   "source": [
    "print 'Listings Data Shape: ', listings.shape\n",
    "\n",
    "# Unsuppress Output\n",
    "pd.options.display.max_columns = 77\n",
    "\n",
    "listings.head(n = 3)"
   ]
  },
  {
   "cell_type": "markdown",
   "metadata": {
    "collapsed": true
   },
   "source": [
    "For our baseline model, we can start by using features that we intuitively sense will impact a listing's price. Here are some good features to start with.\n",
    "- price\n",
    "- neighborhood_cleansed\n",
    "- property_type\n",
    "- room_type\n",
    "- accommodates\n",
    "- bathrooms\n",
    "- bedrooms\n",
    "- guests_included\n",
    "- extra_people\n",
    "- number_of_reviews\n",
    "- review_scores_rating\n",
    "- host_listing_count\n",
    "\n",
    "This brings our feature list down from 52 to 13.\n",
    "\n"
   ]
  },
  {
   "cell_type": "code",
   "execution_count": null,
   "metadata": {
    "collapsed": false
   },
   "outputs": [],
   "source": [
    "listings_slim = listings[['property_type',\n",
    "                  'price',\n",
    "                  'neighbourhood_cleansed',\n",
    "                  'room_type',\n",
    "                  'accommodates',\n",
    "                  'bathrooms',\n",
    "                  'bedrooms',\n",
    "                  'beds',\n",
    "                  'guests_included',\n",
    "                  'extra_people',\n",
    "                  'number_of_reviews',\n",
    "                  'review_scores_rating',\n",
    "                  'host_listing_count']]\n",
    "\n",
    "print 'Size of trimmed data: ', listings_slim.shape"
   ]
  },
  {
   "cell_type": "markdown",
   "metadata": {},
   "source": [
    "Let's remove entries (rows) that have faulty data like when\n",
    "- There are 0 bedrooms\n",
    "- There are 0 bathrooms\n",
    "- There are 0 beds\n",
    "- The price is $0"
   ]
  },
  {
   "cell_type": "code",
   "execution_count": null,
   "metadata": {
    "collapsed": false
   },
   "outputs": [],
   "source": [
    "# Delete bad entries\n",
    "listings_slim = listings_slim[listings_slim.bedrooms != 0]\n",
    "listings_slim = listings_slim[listings_slim.beds != 0]\n",
    "listings_slim = listings_slim[listings_slim.price != 0]\n",
    "\n",
    "# Delete additional entries with NaN values\n",
    "listings_slim = listings_slim.dropna(axis=0)\n",
    "\n",
    "print 'Size of trimmed data: ', listings_slim.shape"
   ]
  },
  {
   "cell_type": "markdown",
   "metadata": {},
   "source": [
    "We also need to drop the dollar sign from our price and turn the type into a float."
   ]
  },
  {
   "cell_type": "code",
   "execution_count": null,
   "metadata": {
    "collapsed": false
   },
   "outputs": [],
   "source": [
    "# Convert $ to float for 'price'\n",
    "listings_slim['price'] = listings_slim['price'].replace('[\\$,)]','',  \\\n",
    "        regex=True).replace('[(]','-', regex=True).astype(float)\n",
    "\n",
    "# Convert $ to float for 'extra people'\n",
    "listings_slim['extra_people'] = listings_slim['extra_people'].replace('[\\$,)]','',  \\\n",
    "        regex=True).replace('[(]','-', regex=True).astype(float)"
   ]
  },
  {
   "cell_type": "markdown",
   "metadata": {},
   "source": [
    "Because we are doing OLS for our baseline regression, we must have only numerical predictors and so we must also one-hot encode our categorical variables."
   ]
  },
  {
   "cell_type": "code",
   "execution_count": null,
   "metadata": {
    "collapsed": false
   },
   "outputs": [],
   "source": [
    "def one_hot(x_df):\n",
    "    x_df_expanded = pd.DataFrame({})\n",
    "    \n",
    "    # From lecture notes to remove categorical\n",
    "    for column in x_df.columns:\n",
    "        # Check if attribute is not categorical: either dtype is not object\n",
    "        if(x_df[column].dtype == np.dtype('object') or x_df[column].dtype == np.dtype('string')):\n",
    "            # otherwise: use one-hot encoding\n",
    "            encoding = pd.get_dummies(x_df[column], prefix=column)  # Convert categorical variable into dummy/indicator variables\n",
    "            # append expanded attribute to data frame\n",
    "            x_df_expanded = pd.concat([x_df_expanded, encoding], axis=1)\n",
    "        else:\n",
    "            # standardizes non-categorial variables\n",
    "#             x_df[column] = x_df[column] / x_df[column].std(axis = 0)\n",
    "\n",
    "            x_df_expanded = pd.concat([x_df_expanded, x_df[column]], axis=1)\n",
    "    return x_df_expanded\n",
    "\n",
    "print 'Size of trimmed data: ', listings_slim.shape\n",
    "listings_slim = one_hot(listings_slim)\n",
    "print 'Size of trimmed data: ', listings_slim.shape\n",
    "\n",
    "listings_slim.head(n=4)"
   ]
  },
  {
   "cell_type": "markdown",
   "metadata": {},
   "source": [
    "We can see that one-hot encoding brought our number of features from 13 to 197. In actuality and as a quick sanity check, the only categorical variables are 'property_type', 'room_type', and 'neighbourhood_cleansed' and there are 186 neighbourhoods so this makes sense."
   ]
  },
  {
   "cell_type": "markdown",
   "metadata": {},
   "source": [
    "### Baseline OLS Model"
   ]
  },
  {
   "cell_type": "code",
   "execution_count": null,
   "metadata": {
    "collapsed": false
   },
   "outputs": [],
   "source": [
    "# stores our predictors as the independent, x, variables\n",
    "X = listings_slim.drop('price', axis = 1)\n",
    "\n",
    "# stores price as the dependent, y, variable\n",
    "Y = listings_slim['price']\n",
    "\n",
    "linreg = LinReg()\n",
    "linreg.fit(X,Y)\n",
    "training_set_score = linreg.score(X,Y)\n",
    "print 'The R^2 score on our training data is: ' + str(round(training_set_score,3))"
   ]
  },
  {
   "cell_type": "code",
   "execution_count": null,
   "metadata": {
    "collapsed": false
   },
   "outputs": [],
   "source": [
    "# stores the coefficient values of the predictors\n",
    "coefficient_values = np.array(linreg.coef_)\n",
    "\n",
    "# stores the names of the variables\n",
    "variable_names = X.columns.values\n",
    "\n",
    "# creates table storing the coefficient values and variable names\n",
    "coef_matrix = pd.DataFrame({'CoefValues':coefficient_values, 'VarName': variable_names, 'AbsCoef': abs(coefficient_values)})"
   ]
  },
  {
   "cell_type": "markdown",
   "metadata": {},
   "source": [
    "Below is a table that contains the sorted coefficient values for each variable that we decided to include."
   ]
  },
  {
   "cell_type": "code",
   "execution_count": null,
   "metadata": {
    "collapsed": false,
    "scrolled": true
   },
   "outputs": [],
   "source": [
    "sorted_coef_matrix = coef_matrix.sort(columns='AbsCoef').drop('AbsCoef', axis=1)\n",
    "sorted_coef_matrix"
   ]
  },
  {
   "cell_type": "markdown",
   "metadata": {},
   "source": [
    "As we can see, our three categorical features have the same weight despite their encodings – this would likely not be the case in a non-linear model and will be interesting to explore."
   ]
  }
 ],
 "metadata": {
  "anaconda-cloud": {},
  "kernelspec": {
   "display_name": "Python [conda root]",
   "language": "python",
   "name": "conda-root-py"
  },
  "language_info": {
   "codemirror_mode": {
    "name": "ipython",
    "version": 2
   },
   "file_extension": ".py",
   "mimetype": "text/x-python",
   "name": "python",
   "nbconvert_exporter": "python",
   "pygments_lexer": "ipython2",
   "version": "2.7.12"
  }
 },
 "nbformat": 4,
 "nbformat_minor": 0
}
