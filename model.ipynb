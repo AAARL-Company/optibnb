{
 "cells": [
  {
   "cell_type": "markdown",
   "metadata": {},
   "source": [
    "### Secondary Data - Calendar & Reviews\n",
    "<p>There is 2 secondary datasets that will be explored. One is `calendar.csv` which contains data on the price of listings on numerous dates. The other is `reviews.csv` which contains"
   ]
  },
  {
   "cell_type": "code",
   "execution_count": 1,
   "metadata": {
    "collapsed": false
   },
   "outputs": [
    {
     "ename": "NameError",
     "evalue": "name 'pd' is not defined",
     "output_type": "error",
     "traceback": [
      "\u001b[0;31m---------------------------------------------------------------------------\u001b[0m",
      "\u001b[0;31mNameError\u001b[0m                                 Traceback (most recent call last)",
      "\u001b[0;32m<ipython-input-1-18aa6dad5dfb>\u001b[0m in \u001b[0;36m<module>\u001b[0;34m()\u001b[0m\n\u001b[1;32m      1\u001b[0m \u001b[0;31m# Read in calendar data\u001b[0m\u001b[0;34m\u001b[0m\u001b[0;34m\u001b[0m\u001b[0m\n\u001b[0;32m----> 2\u001b[0;31m \u001b[0mcalendar\u001b[0m \u001b[0;34m=\u001b[0m \u001b[0mpd\u001b[0m\u001b[0;34m.\u001b[0m\u001b[0mread_csv\u001b[0m\u001b[0;34m(\u001b[0m\u001b[0;34m'datasets/calendar.csv'\u001b[0m\u001b[0;34m,\u001b[0m \u001b[0mdelimiter\u001b[0m\u001b[0;34m=\u001b[0m\u001b[0;34m','\u001b[0m\u001b[0;34m)\u001b[0m\u001b[0;34m\u001b[0m\u001b[0m\n\u001b[0m\u001b[1;32m      3\u001b[0m \u001b[0;34m\u001b[0m\u001b[0m\n\u001b[1;32m      4\u001b[0m \u001b[0;31m# View feature list\u001b[0m\u001b[0;34m\u001b[0m\u001b[0;34m\u001b[0m\u001b[0m\n\u001b[1;32m      5\u001b[0m \u001b[0;32mprint\u001b[0m \u001b[0mcalendar\u001b[0m\u001b[0;34m.\u001b[0m\u001b[0mcolumns\u001b[0m\u001b[0;34m.\u001b[0m\u001b[0mvalues\u001b[0m\u001b[0;34m\u001b[0m\u001b[0m\n",
      "\u001b[0;31mNameError\u001b[0m: name 'pd' is not defined"
     ]
    }
   ],
   "source": [
    "# Read in calendar data\n",
    "calendar = pd.read_csv('datasets/calendar.csv', delimiter=',')\n",
    "\n",
    "# View feature list\n",
    "print calendar.columns.values"
   ]
  },
  {
   "cell_type": "code",
   "execution_count": null,
   "metadata": {
    "collapsed": true
   },
   "outputs": [],
   "source": [
    "# Split into predictor and response\n",
    "y = calendar[['price']]\n",
    "\n",
    "# Append price at the end of the listings table\n",
    "del calendar['price']\n",
    "calendar = calendar.join(y)\n",
    "\n",
    "# Show listings dataframe\n",
    "print 'Number of entries: ', calendar.shape[0]\n",
    "print 'Number of features: ', calendar.shape[1]\n",
    "calendar.head(n = 3)"
   ]
  },
  {
   "cell_type": "markdown",
   "metadata": {},
   "source": [
    "At glance we see that `calendar.csv` has *far* (over one order of magnitude) more entries than `listings.csv` did. This is because each of the thousands of listings in `calendar.csv` has 365 entries - one for each day over an entire year. We can better explore"
   ]
  },
  {
   "cell_type": "code",
   "execution_count": null,
   "metadata": {
    "collapsed": true
   },
   "outputs": [],
   "source": [
    "high_bucket = []\n",
    "med_bucket = []\n",
    "low_bucket = []\n",
    "\n",
    "# Store listings in price buckets\n",
    "for index, item in calendar.iterrows():\n",
    "    if item['listing_id'] in buckets[0]['id'].unique():\n",
    "        low_bucket.append(item)\n",
    "    elif item['listing_id'] in buckets[1]['id'].unique():\n",
    "        med_bucket.append(item)\n",
    "    elif item['listing_id'] in buckets[2]['id'].unique():\n",
    "        high_bucket.append(item)"
   ]
  }
 ],
 "metadata": {
  "kernelspec": {
   "display_name": "Python [conda root]",
   "language": "python",
   "name": "conda-root-py"
  },
  "language_info": {
   "codemirror_mode": {
    "name": "ipython",
    "version": 2
   },
   "file_extension": ".py",
   "mimetype": "text/x-python",
   "name": "python",
   "nbconvert_exporter": "python",
   "pygments_lexer": "ipython2",
   "version": "2.7.12"
  }
 },
 "nbformat": 4,
 "nbformat_minor": 1
}
