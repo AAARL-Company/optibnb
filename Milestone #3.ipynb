{
 "cells": [
  {
   "cell_type": "markdown",
   "metadata": {},
   "source": [
    "# CS 109A Data Science: AirBnB Pricing Predictions - Milestone #3\n",
    "**Harvard University**<br>\n",
    "**Fall 2016**<br>\n",
    "**Instructors: W. Pan, P. Protopapas, K. Rader**<br>\n",
    "**Due Date: ** Wednesday, November 5th, 2016 at 11:59pm\n",
    "\n",
    "#### By Ayo Opeyemi, Chase Davis, & Dino Rodriguez"
   ]
  },
  {
   "cell_type": "markdown",
   "metadata": {},
   "source": [
    "### Import Libaries:"
   ]
  },
  {
   "cell_type": "code",
   "execution_count": 2,
   "metadata": {
    "collapsed": true
   },
   "outputs": [],
   "source": [
    "import numpy as np\n",
    "import pandas as pd\n",
    "import scipy as sp\n",
    "from scipy.stats import mode\n",
    "from sklearn import linear_model\n",
    "import matplotlib\n",
    "import matplotlib.pyplot as plt\n",
    "from sklearn import discriminant_analysis\n",
    "from sklearn.decomposition import PCA\n",
    "from sklearn import preprocessing\n",
    "%matplotlib inline"
   ]
  },
  {
   "cell_type": "markdown",
   "metadata": {},
   "source": [
    "Import Dataset \"Listings\""
   ]
  },
  {
   "cell_type": "code",
   "execution_count": 3,
   "metadata": {
    "collapsed": false
   },
   "outputs": [
    {
     "data": {
      "text/html": [
       "<div>\n",
       "<table border=\"1\" class=\"dataframe\">\n",
       "  <thead>\n",
       "    <tr style=\"text-align: right;\">\n",
       "      <th></th>\n",
       "      <th>id</th>\n",
       "      <th>scrape_id</th>\n",
       "      <th>last_scraped</th>\n",
       "      <th>name</th>\n",
       "      <th>picture_url</th>\n",
       "      <th>host_id</th>\n",
       "      <th>host_name</th>\n",
       "      <th>host_since</th>\n",
       "      <th>host_picture_url</th>\n",
       "      <th>street</th>\n",
       "      <th>...</th>\n",
       "      <th>first_review</th>\n",
       "      <th>last_review</th>\n",
       "      <th>review_scores_rating</th>\n",
       "      <th>review_scores_accuracy</th>\n",
       "      <th>review_scores_cleanliness</th>\n",
       "      <th>review_scores_checkin</th>\n",
       "      <th>review_scores_communication</th>\n",
       "      <th>review_scores_location</th>\n",
       "      <th>review_scores_value</th>\n",
       "      <th>host_listing_count</th>\n",
       "    </tr>\n",
       "  </thead>\n",
       "  <tbody>\n",
       "    <tr>\n",
       "      <th>0</th>\n",
       "      <td>1069266</td>\n",
       "      <td>2.015010e+13</td>\n",
       "      <td>1/2/15</td>\n",
       "      <td>Stay like a real New Yorker!</td>\n",
       "      <td>https://a0.muscache.com/pictures/50276484/larg...</td>\n",
       "      <td>5867023</td>\n",
       "      <td>Michael</td>\n",
       "      <td>4/10/13</td>\n",
       "      <td>https://a2.muscache.com/ic/users/5867023/profi...</td>\n",
       "      <td>East 53rd Street, New York, NY 10022, United S...</td>\n",
       "      <td>...</td>\n",
       "      <td>4/28/13</td>\n",
       "      <td>12/17/14</td>\n",
       "      <td>86.0</td>\n",
       "      <td>9.0</td>\n",
       "      <td>7.0</td>\n",
       "      <td>9.0</td>\n",
       "      <td>9.0</td>\n",
       "      <td>10.0</td>\n",
       "      <td>9.0</td>\n",
       "      <td>1</td>\n",
       "    </tr>\n",
       "    <tr>\n",
       "      <th>1</th>\n",
       "      <td>1846722</td>\n",
       "      <td>2.015010e+13</td>\n",
       "      <td>1/2/15</td>\n",
       "      <td>Apartment 20 Minutes Times Square</td>\n",
       "      <td>https://a1.muscache.com/pictures/35865039/larg...</td>\n",
       "      <td>2631556</td>\n",
       "      <td>Denise</td>\n",
       "      <td>6/13/12</td>\n",
       "      <td>https://a2.muscache.com/ic/users/2631556/profi...</td>\n",
       "      <td>West 155th Street, New York, NY, United States</td>\n",
       "      <td>...</td>\n",
       "      <td>1/5/14</td>\n",
       "      <td>12/29/14</td>\n",
       "      <td>85.0</td>\n",
       "      <td>8.0</td>\n",
       "      <td>8.0</td>\n",
       "      <td>9.0</td>\n",
       "      <td>8.0</td>\n",
       "      <td>7.0</td>\n",
       "      <td>8.0</td>\n",
       "      <td>2</td>\n",
       "    </tr>\n",
       "    <tr>\n",
       "      <th>2</th>\n",
       "      <td>2061725</td>\n",
       "      <td>2.015010e+13</td>\n",
       "      <td>1/2/15</td>\n",
       "      <td>Option of 2 Beds w Private Bathroom</td>\n",
       "      <td>https://a2.muscache.com/pictures/50650147/larg...</td>\n",
       "      <td>4601412</td>\n",
       "      <td>Miao</td>\n",
       "      <td>1/5/13</td>\n",
       "      <td>https://a0.muscache.com/ic/users/4601412/profi...</td>\n",
       "      <td>Van Buren Street, Brooklyn, NY 11221, United S...</td>\n",
       "      <td>...</td>\n",
       "      <td>2/4/14</td>\n",
       "      <td>12/29/14</td>\n",
       "      <td>98.0</td>\n",
       "      <td>10.0</td>\n",
       "      <td>10.0</td>\n",
       "      <td>10.0</td>\n",
       "      <td>10.0</td>\n",
       "      <td>9.0</td>\n",
       "      <td>10.0</td>\n",
       "      <td>4</td>\n",
       "    </tr>\n",
       "  </tbody>\n",
       "</table>\n",
       "<p>3 rows × 52 columns</p>\n",
       "</div>"
      ],
      "text/plain": [
       "        id     scrape_id last_scraped                                 name  \\\n",
       "0  1069266  2.015010e+13       1/2/15        Stay like a real New Yorker!    \n",
       "1  1846722  2.015010e+13       1/2/15    Apartment 20 Minutes Times Square   \n",
       "2  2061725  2.015010e+13       1/2/15  Option of 2 Beds w Private Bathroom   \n",
       "\n",
       "                                         picture_url  host_id host_name  \\\n",
       "0  https://a0.muscache.com/pictures/50276484/larg...  5867023   Michael   \n",
       "1  https://a1.muscache.com/pictures/35865039/larg...  2631556    Denise   \n",
       "2  https://a2.muscache.com/pictures/50650147/larg...  4601412      Miao   \n",
       "\n",
       "  host_since                                   host_picture_url  \\\n",
       "0    4/10/13  https://a2.muscache.com/ic/users/5867023/profi...   \n",
       "1    6/13/12  https://a2.muscache.com/ic/users/2631556/profi...   \n",
       "2     1/5/13  https://a0.muscache.com/ic/users/4601412/profi...   \n",
       "\n",
       "                                              street        ...          \\\n",
       "0  East 53rd Street, New York, NY 10022, United S...        ...           \n",
       "1     West 155th Street, New York, NY, United States        ...           \n",
       "2  Van Buren Street, Brooklyn, NY 11221, United S...        ...           \n",
       "\n",
       "  first_review last_review review_scores_rating review_scores_accuracy  \\\n",
       "0      4/28/13    12/17/14                 86.0                    9.0   \n",
       "1       1/5/14    12/29/14                 85.0                    8.0   \n",
       "2       2/4/14    12/29/14                 98.0                   10.0   \n",
       "\n",
       "  review_scores_cleanliness review_scores_checkin review_scores_communication  \\\n",
       "0                       7.0                   9.0                         9.0   \n",
       "1                       8.0                   9.0                         8.0   \n",
       "2                      10.0                  10.0                        10.0   \n",
       "\n",
       "   review_scores_location  review_scores_value host_listing_count  \n",
       "0                    10.0                  9.0                  1  \n",
       "1                     7.0                  8.0                  2  \n",
       "2                     9.0                 10.0                  4  \n",
       "\n",
       "[3 rows x 52 columns]"
      ]
     },
     "execution_count": 3,
     "metadata": {},
     "output_type": "execute_result"
    }
   ],
   "source": [
    "# Read in the data \n",
    "listings = pd.read_csv('listings.csv', delimiter=',')\n",
    "\n",
    "# Visualize initial data\n",
    "listings.head(n = 3)"
   ]
  },
  {
   "cell_type": "code",
   "execution_count": 8,
   "metadata": {
    "collapsed": false
   },
   "outputs": [
    {
     "data": {
      "text/html": [
       "<div>\n",
       "<table border=\"1\" class=\"dataframe\">\n",
       "  <thead>\n",
       "    <tr style=\"text-align: right;\">\n",
       "      <th></th>\n",
       "      <th>price</th>\n",
       "    </tr>\n",
       "  </thead>\n",
       "  <tbody>\n",
       "    <tr>\n",
       "      <th>0</th>\n",
       "      <td>$160.00</td>\n",
       "    </tr>\n",
       "    <tr>\n",
       "      <th>1</th>\n",
       "      <td>$105.00</td>\n",
       "    </tr>\n",
       "    <tr>\n",
       "      <th>2</th>\n",
       "      <td>$58.00</td>\n",
       "    </tr>\n",
       "  </tbody>\n",
       "</table>\n",
       "</div>"
      ],
      "text/plain": [
       "     price\n",
       "0  $160.00\n",
       "1  $105.00\n",
       "2   $58.00"
      ]
     },
     "execution_count": 8,
     "metadata": {},
     "output_type": "execute_result"
    }
   ],
   "source": [
    "# Visualize price table\n",
    "price = listings[['price']]\n",
    "price.head(n = 3)"
   ]
  },
  {
   "cell_type": "code",
   "execution_count": null,
   "metadata": {
    "collapsed": true
   },
   "outputs": [],
   "source": []
  }
 ],
 "metadata": {
  "anaconda-cloud": {},
  "kernelspec": {
   "display_name": "Python [Root]",
   "language": "python",
   "name": "Python [Root]"
  },
  "language_info": {
   "codemirror_mode": {
    "name": "ipython",
    "version": 2
   },
   "file_extension": ".py",
   "mimetype": "text/x-python",
   "name": "python",
   "nbconvert_exporter": "python",
   "pygments_lexer": "ipython2",
   "version": "2.7.12"
  }
 },
 "nbformat": 4,
 "nbformat_minor": 0
}
