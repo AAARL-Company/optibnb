{
 "cells": [
  {
   "cell_type": "markdown",
   "metadata": {},
   "source": [
    "# CS 109A Data Science: AirBnB Pricing Predictions - Milestone #3\n",
    "**Harvard University**<br>\n",
    "**Fall 2016**<br>\n",
    "**Instructors: W. Pan, P. Protopapas, K. Rader**<br>\n",
    "**Due Date: ** Wednesday, November 5th, 2016 at 11:59pm\n",
    "\n",
    "#### By Ayo Opeyemi, Chase Davis, & Dino Rodriguez"
   ]
  },
  {
   "cell_type": "markdown",
   "metadata": {},
   "source": [
    "### Import Libaries:"
   ]
  },
  {
   "cell_type": "code",
   "execution_count": null,
   "metadata": {
    "collapsed": false,
    "scrolled": true
   },
   "outputs": [],
   "source": [
    "import numpy as np\n",
    "import pandas as pd\n",
    "import scipy as sp\n",
    "from scipy.stats import mode\n",
    "from sklearn import linear_model\n",
    "import matplotlib\n",
    "import matplotlib.pyplot as plt\n",
    "from sklearn import discriminant_analysis\n",
    "from sklearn.decomposition import PCA\n",
    "from sklearn import preprocessing\n",
    "from collections import Counter\n",
    "%matplotlib inline"
   ]
  },
  {
   "cell_type": "markdown",
   "metadata": {},
   "source": [
    "### Step 1: Import listings, clean data, and extract features\n",
    "<p> We begin by importing the data. A visual examination reveals missing values across several columns.</p>\n",
    "* TODO: Clean data and fill in missing values\n",
    "* TODO: Extract appropriate features"
   ]
  },
  {
   "cell_type": "code",
   "execution_count": null,
   "metadata": {
    "collapsed": false
   },
   "outputs": [],
   "source": [
    "# Read in the data \n",
    "listings = pd.read_csv('listings.csv', delimiter=',')\n",
    "\n",
    "# Visualize initial data\n",
    "print 'Fig 1'\n",
    "print ''\n",
    "print listings.columns.values"
   ]
  },
  {
   "cell_type": "code",
   "execution_count": null,
   "metadata": {
    "collapsed": false
   },
   "outputs": [],
   "source": [
    "# Visualize list to get an idea of data types we have\n",
    "print 'Fig 2'\n",
    "print ''\n",
    "listings.head(n = 3)"
   ]
  },
  {
   "cell_type": "markdown",
   "metadata": {},
   "source": [
    "### Step 2: Explore Data"
   ]
  },
  {
   "cell_type": "code",
   "execution_count": null,
   "metadata": {
    "collapsed": false
   },
   "outputs": [],
   "source": [
    "# Visualize price table, changing them to floats and replacing the commas with a blank\n",
    "prices = listings['price'].apply(lambda s: float(s[1:].replace(',','')))\n",
    "\n",
    "print 'Fig 3'\n",
    "print ''\n",
    "print prices.shape\n",
    "prices.head(n = 5)"
   ]
  },
  {
   "cell_type": "code",
   "execution_count": null,
   "metadata": {
    "collapsed": false
   },
   "outputs": [],
   "source": [
    "# Histogram of pricing data\n",
    "def price_hist(n, titles, ranges):\n",
    "    fig, ax = plt.subplots(n, figsize=(8, 7.5))\n",
    "    for i in range(n):\n",
    "        d, bins, patches = ax[i].hist(ranges[i], 60, normed=1, facecolor='green', alpha=0.75)\n",
    "        ax[i].set_title(titles[i])\n",
    "        ax[i].set_xlabel(\"Value\")\n",
    "        ax[i].set_ylabel(\"Frequency\")\n",
    "    plt.tight_layout()\n",
    "    plt.show()"
   ]
  },
  {
   "cell_type": "code",
   "execution_count": null,
   "metadata": {
    "collapsed": false
   },
   "outputs": [],
   "source": [
    "print 'Fig 4, 5, 6'\n",
    "print ''\n",
    "price_hist(3, ['Prices Histogram: All Data', 'Prices Histogram: \\$0 - \\$1000', 'Prices Histogram: \\$0 - \\$200'], \n",
    "           [prices, prices[prices <= 1000], prices[prices < 250]])"
   ]
  },
  {
   "cell_type": "code",
   "execution_count": null,
   "metadata": {
    "collapsed": false
   },
   "outputs": [],
   "source": [
    "# Variation of method at https://www.mapr.com/blog/predicting-airbnb-listing-prices-scikit-learn-and-apache-spark\n",
    "\n",
    "nb_counts = Counter(listings.neighbourhood_cleansed)\n",
    "\n",
    "print 'Figure 7'\n",
    "print ''\n",
    "print 'Number of Neighborhoods: ', len(nb_counts)\n",
    "\n",
    "tdf = pd.DataFrame.from_dict(nb_counts, orient='index').sort_values(by=0)\n",
    "ax = tdf.plot(kind='bar', figsize = (50,4))\n",
    "ax.set_title(\"Neighborhoods by House #\")\n",
    "ax.set_xlabel(\"Neighborhood\")\n",
    "ax.set_ylabel(\"# of Listings\")\n",
    "plt.show()"
   ]
  },
  {
   "cell_type": "markdown",
   "metadata": {},
   "source": [
    "##### Double click the above plot to view suppressed output!"
   ]
  },
  {
   "cell_type": "code",
   "execution_count": null,
   "metadata": {
    "collapsed": false
   },
   "outputs": [],
   "source": [
    "nb_counts = Counter(listings.neighbourhood_cleansed)\n",
    "\n",
    "for frequency in nb_counts.keys():  ## creates a list of all keys\n",
    "    if nb_counts[frequency] < 100:\n",
    "        del nb_counts[frequency]\n",
    "\n",
    "print 'Figure 8'\n",
    "print ''       \n",
    "print 'Number of Neighborhoods: ', len(nb_counts)\n",
    "\n",
    "tdf = pd.DataFrame.from_dict(nb_counts, orient='index').sort_values(by=0)\n",
    "ax = tdf.plot(kind='bar', figsize = (22,4))\n",
    "ax.set_title(\"Neighborhoods by House # (Top 48)\")\n",
    "ax.set_xlabel(\"Neighborhood\")\n",
    "ax.set_ylabel(\"# of Listings\")\n",
    "\n",
    "plt.show()"
   ]
  },
  {
   "cell_type": "code",
   "execution_count": null,
   "metadata": {
    "collapsed": false
   },
   "outputs": [],
   "source": [
    "listings['price'] = listings[\"price\"].apply(lambda s:float(s[1:].replace(',','')))\n",
    "\n",
    "neighborhoods = list(set(listings['neighbourhood_cleansed'].tolist()))\n",
    "p = []\n",
    "for nb in neighborhoods:\n",
    "    p.append(np.mean(listings[listings['neighbourhood_cleansed'] == nb]['price'].tolist()))\n",
    "\n",
    "data = zip(p, neighborhoods)\n",
    "\n",
    "print 'Figure 8'\n",
    "print '' \n",
    "\n",
    "plt.figure(figsize=(186, 8))\n",
    "ax = plt.bar(np.arange(len(p)), p, align='center', width = 1)\n",
    "plt.xticks(np.arange(len(p)), neighborhoods, rotation = 90)\n",
    "plt.title(\"Avg. Price of House in Neighborhood\")\n",
    "plt.xlabel(\"Avg. Price\")\n",
    "plt.ylabel(\"Neighborhood\")\n",
    "# for price, neighborhood in zip(prices, neighborhoods):\n",
    "#     ax.text(rect.get_x() + rect.get_width()/2, price, neighborhood, ha='center', va='bottom')\n",
    "plt.show()"
   ]
  },
  {
   "cell_type": "markdown",
   "metadata": {},
   "source": [
    "##### Double click the above plot to view suppressed output!"
   ]
  },
  {
   "cell_type": "code",
   "execution_count": null,
   "metadata": {
    "collapsed": false
   },
   "outputs": [],
   "source": [
    "price = listings['price'].tolist()\n",
    "price_sum = sum(price)\n",
    "price_max = max(price)\n",
    "norm = [float(i)/price_sum for i in price]\n",
    "norm = [float(i)/max(norm) for i in norm]\n",
    "\n",
    "print 'Figure 9'\n",
    "print ''\n",
    "\n",
    "# Plot listings on scatter\n",
    "plt.figure(figsize=(10, 8))\n",
    "plt.scatter(listings['latitude'], listings['longitude'], alpha = .5, c = norm, label = 'Listing') #plot x against y\n",
    "plt.title('New York City - AirBnB Listings')\n",
    "plt.xlabel('Longitude')\n",
    "plt.ylabel('Latitude')\n",
    "plt.legend(loc = 'best')\n",
    "\n",
    "plt.colorbar()\n",
    "plt.show()"
   ]
  },
  {
   "cell_type": "code",
   "execution_count": null,
   "metadata": {
    "collapsed": false
   },
   "outputs": [],
   "source": [
    "print 'Figure 10'\n",
    "print ''\n",
    "\n",
    "correlation_matrix = listings[['price','latitude', 'longitude',\n",
    "       'accommodates', 'bathrooms', 'bedrooms', 'beds', 'square_feet','guests_included', 'minimum_nights', 'maximum_nights',\n",
    "       'availability_30', 'availability_60', 'availability_90',\n",
    "       'availability_365', 'number_of_reviews', 'review_scores_rating',\n",
    "       'review_scores_accuracy', 'review_scores_cleanliness',\n",
    "       'review_scores_checkin', 'review_scores_communication',\n",
    "       'review_scores_location', 'review_scores_value',\n",
    "       'host_listing_count']].corr()\n",
    "\n",
    "correlation_matrix"
   ]
  },
  {
   "cell_type": "code",
   "execution_count": null,
   "metadata": {
    "collapsed": false
   },
   "outputs": [],
   "source": [
    "print 'Figure 11.1'\n",
    "print ''\n",
    "\n",
    "plt.figure(figsize=(7, 7))\n",
    "\n",
    "plt.pcolor(correlation_matrix, cmap=\"RdBu\")\n",
    "plt.xlabel(\"predictor number\")\n",
    "plt.ylabel(\"predictor number\")\n",
    "plt.title(\"Correlation Heat Map\")\n",
    "plt.colorbar()\n",
    "\n",
    "plt.show()"
   ]
  },
  {
   "cell_type": "code",
   "execution_count": null,
   "metadata": {
    "collapsed": false
   },
   "outputs": [],
   "source": [
    "print 'Figure 11.2'\n",
    "print ''\n",
    "\n",
    "key = pd.DataFrame({\"Predictor Number\": [0,1,2,3,4,5,6,7,8,9,10,11,12,13,14,15,\n",
    "                                         16,17,18,19,20,21,22,23], \"Name\": ['price','latitude', 'longitude',\n",
    "       'accommodates', 'bathrooms', 'bedrooms', 'beds', 'square_feet','guests_included', 'minimum_nights', 'maximum_nights',\n",
    "       'availability_30', 'availability_60', 'availability_90',\n",
    "       'availability_365', 'number_of_reviews', 'review_scores_rating',\n",
    "       'review_scores_accuracy', 'review_scores_cleanliness',\n",
    "       'review_scores_checkin', 'review_scores_communication',\n",
    "       'review_scores_location', 'review_scores_value',\n",
    "       'host_listing_count']})\n",
    "key = key[[\"Predictor Number\",\"Name\"]]\n",
    "\n",
    "key"
   ]
  }
 ],
 "metadata": {
  "anaconda-cloud": {},
  "kernelspec": {
   "display_name": "Python [conda root]",
   "language": "python",
   "name": "conda-root-py"
  },
  "language_info": {
   "codemirror_mode": {
    "name": "ipython",
    "version": 2
   },
   "file_extension": ".py",
   "mimetype": "text/x-python",
   "name": "python",
   "nbconvert_exporter": "python",
   "pygments_lexer": "ipython2",
   "version": "2.7.12"
  }
 },
 "nbformat": 4,
 "nbformat_minor": 0
}
